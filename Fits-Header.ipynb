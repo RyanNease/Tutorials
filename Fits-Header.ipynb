{
 "cells": [
  {
   "cell_type": "code",
   "execution_count": 1,
   "id": "06e29e0d-475a-4b8c-9383-07d5be86ca59",
   "metadata": {},
   "outputs": [
    {
     "name": "stdout",
     "output_type": "stream",
     "text": [
      "Requirement already satisfied: astropy in c:\\users\\ryan\\appdata\\local\\programs\\python\\python310\\lib\\site-packages (6.0.0)\n",
      "Requirement already satisfied: astropy-iers-data>=0.2023.10.30.0.29.53 in c:\\users\\ryan\\appdata\\local\\programs\\python\\python310\\lib\\site-packages (from astropy) (0.2024.2.19.0.28.47)\n",
      "Requirement already satisfied: PyYAML>=3.13 in c:\\users\\ryan\\appdata\\local\\programs\\python\\python310\\lib\\site-packages (from astropy) (6.0.1)\n",
      "Requirement already satisfied: packaging>=19.0 in c:\\users\\ryan\\appdata\\local\\programs\\python\\python310\\lib\\site-packages (from astropy) (23.2)\n",
      "Requirement already satisfied: pyerfa>=2.0 in c:\\users\\ryan\\appdata\\local\\programs\\python\\python310\\lib\\site-packages (from astropy) (2.0.1.1)\n",
      "Requirement already satisfied: numpy<2,>=1.22 in c:\\users\\ryan\\appdata\\local\\programs\\python\\python310\\lib\\site-packages (from astropy) (1.26.3)\n"
     ]
    },
    {
     "name": "stderr",
     "output_type": "stream",
     "text": [
      "\n",
      "[notice] A new release of pip is available: 23.0.1 -> 24.0\n",
      "[notice] To update, run: python.exe -m pip install --upgrade pip\n"
     ]
    },
    {
     "name": "stdout",
     "output_type": "stream",
     "text": [
      "Requirement already satisfied: matplotlib in c:\\users\\ryan\\appdata\\local\\programs\\python\\python310\\lib\\site-packages (3.8.2)\n",
      "Requirement already satisfied: packaging>=20.0 in c:\\users\\ryan\\appdata\\local\\programs\\python\\python310\\lib\\site-packages (from matplotlib) (23.2)\n",
      "Requirement already satisfied: pyparsing>=2.3.1 in c:\\users\\ryan\\appdata\\local\\programs\\python\\python310\\lib\\site-packages (from matplotlib) (3.1.1)\n",
      "Requirement already satisfied: python-dateutil>=2.7 in c:\\users\\ryan\\appdata\\local\\programs\\python\\python310\\lib\\site-packages (from matplotlib) (2.8.2)\n",
      "Requirement already satisfied: pillow>=8 in c:\\users\\ryan\\appdata\\local\\programs\\python\\python310\\lib\\site-packages (from matplotlib) (10.2.0)\n",
      "Requirement already satisfied: contourpy>=1.0.1 in c:\\users\\ryan\\appdata\\local\\programs\\python\\python310\\lib\\site-packages (from matplotlib) (1.2.0)\n",
      "Requirement already satisfied: numpy<2,>=1.21 in c:\\users\\ryan\\appdata\\local\\programs\\python\\python310\\lib\\site-packages (from matplotlib) (1.26.3)\n",
      "Requirement already satisfied: cycler>=0.10 in c:\\users\\ryan\\appdata\\local\\programs\\python\\python310\\lib\\site-packages (from matplotlib) (0.12.1)\n",
      "Requirement already satisfied: fonttools>=4.22.0 in c:\\users\\ryan\\appdata\\local\\programs\\python\\python310\\lib\\site-packages (from matplotlib) (4.47.2)\n",
      "Requirement already satisfied: kiwisolver>=1.3.1 in c:\\users\\ryan\\appdata\\local\\programs\\python\\python310\\lib\\site-packages (from matplotlib) (1.4.5)\n",
      "Requirement already satisfied: six>=1.5 in c:\\users\\ryan\\appdata\\local\\programs\\python\\python310\\lib\\site-packages (from python-dateutil>=2.7->matplotlib) (1.16.0)\n"
     ]
    },
    {
     "name": "stderr",
     "output_type": "stream",
     "text": [
      "\n",
      "[notice] A new release of pip is available: 23.0.1 -> 24.0\n",
      "[notice] To update, run: python.exe -m pip install --upgrade pip\n"
     ]
    },
    {
     "name": "stdout",
     "output_type": "stream",
     "text": [
      "Requirement already satisfied: numpy in c:\\users\\ryan\\appdata\\local\\programs\\python\\python310\\lib\\site-packages (1.26.3)\n"
     ]
    },
    {
     "name": "stderr",
     "output_type": "stream",
     "text": [
      "\n",
      "[notice] A new release of pip is available: 23.0.1 -> 24.0\n",
      "[notice] To update, run: python.exe -m pip install --upgrade pip\n"
     ]
    }
   ],
   "source": [
    "!pip install astropy\n",
    "!pip install matplotlib\n",
    "!pip install numpy"
   ]
  },
  {
   "cell_type": "code",
   "execution_count": 2,
   "id": "77981b50-aa9d-46d0-a970-f9616b47e13f",
   "metadata": {},
   "outputs": [],
   "source": [
    "from astropy.io import fits"
   ]
  },
  {
   "cell_type": "code",
   "execution_count": 4,
   "id": "9bd32cd1-0282-44d4-bccf-737651bcc104",
   "metadata": {},
   "outputs": [],
   "source": [
    "data, header = fits.getdata(\"input_file.fits\", header=True)"
   ]
  },
  {
   "cell_type": "code",
   "execution_count": 5,
   "id": "80c4e757-305d-4d85-97a6-8754b32dad6c",
   "metadata": {},
   "outputs": [
    {
     "data": {
      "text/plain": [
       "SIMPLE  =                    T / conforms to FITS standard                      \n",
       "BITPIX  =                  -64 / array data type                                \n",
       "NAXIS   =                    2 / number of array dimensions                     \n",
       "NAXIS1  =                  100                                                  \n",
       "NAXIS2  =                  100                                                  \n",
       "EXTEND  =                    T                                                  \n",
       "OBJECT  = 'KITTEN  '                                                            "
      ]
     },
     "execution_count": 5,
     "metadata": {},
     "output_type": "execute_result"
    }
   ],
   "source": [
    "hdu_number = 0 # HDU means header data unit\n",
    "fits.getheader('input_file.fits', hdu_number)"
   ]
  },
  {
   "cell_type": "code",
   "execution_count": 6,
   "id": "6faaa28a-459e-40f3-874f-61211f719807",
   "metadata": {},
   "outputs": [
    {
     "name": "stdout",
     "output_type": "stream",
     "text": [
      "Filename: input_file.fits\n",
      "No.    Name      Ver    Type      Cards   Dimensions   Format\n",
      "  0  PRIMARY       1 PrimaryHDU       7   (100, 100)   float64   \n",
      "  1                1 ImageHDU         7   (128, 128)   float64   \n"
     ]
    },
    {
     "data": {
      "text/plain": [
       "SIMPLE  =                    T / conforms to FITS standard                      \n",
       "BITPIX  =                  -64 / array data type                                \n",
       "NAXIS   =                    2 / number of array dimensions                     \n",
       "NAXIS1  =                  100                                                  \n",
       "NAXIS2  =                  100                                                  \n",
       "EXTEND  =                    T                                                  \n",
       "OBJECT  = 'KITTEN  '                                                            "
      ]
     },
     "execution_count": 6,
     "metadata": {},
     "output_type": "execute_result"
    }
   ],
   "source": [
    "# But hdu_number = 0 is the PRIMARY HDU.How many HDUs are in this file?\n",
    "fits_inf = fits.open(\"input_file.fits\")\n",
    "fits_inf.info() \n",
    "fits_inf[0].header"
   ]
  },
  {
   "cell_type": "code",
   "execution_count": 7,
   "id": "8ed9ab98-b926-49c2-8076-b5726b408de1",
   "metadata": {},
   "outputs": [],
   "source": [
    "header['OBJECT'] = \"M31\"\n"
   ]
  },
  {
   "cell_type": "code",
   "execution_count": 8,
   "id": "f8d91bc6-0b99-4b18-8e2d-fc122378b29e",
   "metadata": {},
   "outputs": [],
   "source": [
    "fits.writeto('output_file.fits', data, header, overwrite=True)"
   ]
  },
  {
   "cell_type": "code",
   "execution_count": 9,
   "id": "a0877a2c-2fad-4f62-b1db-301b8a6d9f54",
   "metadata": {},
   "outputs": [],
   "source": [
    "data1, header1 = fits.getdata(\"input_file.fits\", ext=1, header=True)"
   ]
  },
  {
   "cell_type": "code",
   "execution_count": 10,
   "id": "ec9eb644-9281-4228-ae9e-0696682e72a0",
   "metadata": {},
   "outputs": [],
   "source": [
    "fits.writeto('output_file.fits', data, header, overwrite=True)"
   ]
  },
  {
   "cell_type": "code",
   "execution_count": 11,
   "id": "ee84c6d9-c246-4d30-b43c-3ef2345f76e5",
   "metadata": {},
   "outputs": [],
   "source": [
    "with fits.open('input_file.fits', mode='update') as filehandle:\n",
    "    filehandle[0].header['MYHDRKW'] = \"My Header Keyword\""
   ]
  },
  {
   "cell_type": "code",
   "execution_count": 12,
   "id": "5b15f3ea-d249-45bc-8ef8-577bc1ed8230",
   "metadata": {},
   "outputs": [],
   "source": [
    "# Read in the FITS file you just wrote\n",
    "file_path = 'output_file.fits'\n",
    "data, header = fits.getdata(file_path, header=True)\n",
    "\n",
    "# Add three header keywords\n",
    "header['RA'] = \"00 42 00\"  # Replace with the actual Right Ascension of M31\n",
    "header['DEC'] = \"+41 16 09\"  # Replace with the actual Declination of M31\n",
    "header['RADECSRC'] = 'Obtained from google search'  # Replace with the source information\n",
    "\n",
    "# Write the updated header to a new file\n",
    "output_file_path = 'updated_output_file.fits'\n",
    "fits.writeto(output_file_path, data, header, overwrite=True)"
   ]
  }
 ],
 "metadata": {
  "kernelspec": {
   "display_name": "Python 3 (ipykernel)",
   "language": "python",
   "name": "python3"
  },
  "language_info": {
   "codemirror_mode": {
    "name": "ipython",
    "version": 3
   },
   "file_extension": ".py",
   "mimetype": "text/x-python",
   "name": "python",
   "nbconvert_exporter": "python",
   "pygments_lexer": "ipython3",
   "version": "3.10.11"
  }
 },
 "nbformat": 4,
 "nbformat_minor": 5
}
